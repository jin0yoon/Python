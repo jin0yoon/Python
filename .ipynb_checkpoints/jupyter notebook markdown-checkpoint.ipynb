{
 "cells": [
  {
   "cell_type": "markdown",
   "metadata": {},
   "source": [
    "**python** is really *cool*\n",
    "\n",
    "- python\n",
    " - pandas\n",
    "  - depth1\n",
    "  - depth2\n",
    " - numpy\n",
    "- java\n",
    "- c++\n",
    "- golang\n",
    "\n",
    "\n",
    "1. python\n",
    "2. java\n",
    "3. c++\n",
    "\n",
    ">파이썬은 재밌다고 하더라...\n",
    "\n",
    "$y = 3x$\n",
    "\n",
    "```python\n",
    "a = 10\n",
    "print(a)\n",
    "``` \n",
    "\n",
    "` -> option + ₩\n",
    "\n",
    "[파이썬 공식 페이지](https://www.python.org/)"
   ]
  }
 ],
 "metadata": {
  "kernelspec": {
   "display_name": "Python 3",
   "language": "python",
   "name": "python3"
  },
  "language_info": {
   "codemirror_mode": {
    "name": "ipython",
    "version": 3
   },
   "file_extension": ".py",
   "mimetype": "text/x-python",
   "name": "python",
   "nbconvert_exporter": "python",
   "pygments_lexer": "ipython3",
   "version": "3.8.3"
  }
 },
 "nbformat": 4,
 "nbformat_minor": 4
}
